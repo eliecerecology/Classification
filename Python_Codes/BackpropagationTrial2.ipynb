{
 "cells": [
  {
   "cell_type": "code",
   "execution_count": 14,
   "metadata": {
    "collapsed": true
   },
   "outputs": [],
   "source": [
    "#backpropagation attempt #2\n",
    "import numpy as np\n",
    "import matplotlib.pyplot as plt\n"
   ]
  },
  {
   "cell_type": "code",
   "execution_count": 2,
   "metadata": {
    "collapsed": true
   },
   "outputs": [],
   "source": [
    "np.random.seed(1)\n",
    "\n",
    "X = np.array([[0,0,1],\n",
    "            [0,1,1],\n",
    "            [1,0,1],\n",
    "            [1,1,1]]) #input\n",
    "                \n",
    "y = np.array([[0],\n",
    "              [1],\n",
    "              [1],\n",
    "              [0]]) #expected"
   ]
  },
  {
   "cell_type": "code",
   "execution_count": 3,
   "metadata": {
    "collapsed": true
   },
   "outputs": [],
   "source": [
    "##sigmoid function-->derivative function\n",
    "def nonlin(x,deriv=False):\n",
    "    if(deriv==True):\n",
    "        return x*(1-x)\n",
    "\n",
    "    return 1/(1+np.exp(-x))"
   ]
  },
  {
   "cell_type": "code",
   "execution_count": 34,
   "metadata": {
    "collapsed": true
   },
   "outputs": [],
   "source": [
    "#Step 2 build model\n",
    "\n",
    "num_epochs = 600000\n",
    "\n",
    "#initialize weights\n",
    "syn0 = 2*np.random.random((3,4)) - 1\n",
    "syn1 = 2*np.random.random((4,1)) - 1"
   ]
  },
  {
   "cell_type": "code",
   "execution_count": 18,
   "metadata": {
    "scrolled": false
   },
   "outputs": [
    {
     "name": "stdout",
     "output_type": "stream",
     "text": [
      "Error:0.498143063951\n",
      "Error:0.0107390362688\n",
      "Error:0.00740748848689\n",
      "Error:0.00598422665189\n",
      "Error:0.00514985091533\n",
      "Error:0.00458623577905\n",
      "Error:0.00417314049639\n",
      "Error:0.00385379001248\n",
      "Error:0.00359744728376\n",
      "Error:0.00338584032192\n",
      "Error:0.00320733914325\n",
      "Error:0.00305414453956\n",
      "Error:0.00292080589797\n",
      "Error:0.00280338431389\n",
      "Error:0.00269895336072\n",
      "Error:0.00260528753581\n",
      "Error:0.00252066034808\n",
      "Error:0.00244370919685\n",
      "Error:0.0023733424168\n",
      "Error:0.00230867377623\n",
      "Error:0.00224897533677\n",
      "Error:0.00219364288793\n",
      "Error:0.00214217017655\n",
      "Error:0.00209412940396\n",
      "Error:0.00204915626619\n",
      "Error:0.00200693833751\n",
      "Error:0.00196720594905\n",
      "Error:0.00192972495314\n",
      "Error:0.00189429092939\n",
      "Error:0.00186072450494\n",
      "Error:0.00182886754441\n",
      "Error:0.00179858002471\n",
      "Error:0.00176973745395\n",
      "Error:0.00174222872587\n",
      "Error:0.0017159543257\n",
      "Error:0.0016908248212\n",
      "Error:0.00166675958705\n",
      "Error:0.00164368572096\n",
      "Error:0.00162153711843\n",
      "Error:0.00160025367941\n",
      "Error:0.00157978062524\n",
      "Error:0.00156006790817\n",
      "Error:0.001541069699\n",
      "Error:0.00152274394092\n",
      "Error:0.0015050519597\n",
      "Error:0.00148795812193\n",
      "Error:0.00147142953458\n",
      "Error:0.00145543578002\n",
      "Error:0.00143994868168\n",
      "Error:0.00142494209627\n",
      "Error:0.00141039172905\n",
      "Error:0.00139627496921\n",
      "Error:0.00138257074277\n",
      "Error:0.00136925938098\n",
      "Error:0.0013563225021\n",
      "Error:0.00134374290522\n",
      "Error:0.00133150447453\n",
      "Error:0.00131959209291\n",
      "Error:0.0013079915638\n",
      "Error:0.00129668954039\n"
     ]
    }
   ],
   "source": [
    "#Step 3 Train Model\n",
    "error_mean = []\n",
    "for j in range(num_epochs):\n",
    "    #feed forward through layers 0,1, and 2\n",
    "    l0 = X\n",
    "    l1 = nonlin(np.dot(l0, syn0))\n",
    "    l2 = nonlin(np.dot(l1, syn1))\n",
    "    \n",
    "    #how much did we miss the target value?\n",
    "    l2_error = y - l2\n",
    "    \n",
    "   \n",
    "    error_mean.append(str(np.mean(np.abs(l2_error))))\n",
    "    \n",
    "    if (j% 10000) == 0:\n",
    "        print (\"Error:\" + str(np.mean(np.abs(l2_error))))\n",
    "    \n",
    "    #in what direction is the target value?\n",
    "    l2_delta = l2_error*nonlin(l2, deriv=True)\n",
    "    \n",
    "    #how much did each l1 value contribute to l2 error\n",
    "    l1_error = l2_delta.dot(syn1.T)\n",
    "    \n",
    "    l1_delta= l1_error * nonlin(l1,deriv=True)\n",
    "    \n",
    "    syn1 += l1.T.dot(l2_delta)\n",
    "    syn0 += l0.T.dot(l1_delta)"
   ]
  },
  {
   "cell_type": "code",
   "execution_count": 6,
   "metadata": {},
   "outputs": [
    {
     "name": "stdout",
     "output_type": "stream",
     "text": [
      "[[-0.00260572]\n",
      " [ 0.00327791]\n",
      " [ 0.00298289]\n",
      " [-0.00386759]]\n"
     ]
    }
   ],
   "source": [
    "print(l2_error)"
   ]
  },
  {
   "cell_type": "code",
   "execution_count": 26,
   "metadata": {
    "scrolled": false
   },
   "outputs": [],
   "source": [
    "index_min = np.argmin(error_mean)"
   ]
  },
  {
   "cell_type": "code",
   "execution_count": 27,
   "metadata": {},
   "outputs": [
    {
     "name": "stdout",
     "output_type": "stream",
     "text": [
      "599999\n"
     ]
    }
   ],
   "source": [
    "print(index_min)"
   ]
  },
  {
   "cell_type": "code",
   "execution_count": 28,
   "metadata": {},
   "outputs": [
    {
     "data": {
      "text/plain": [
       "599999"
      ]
     },
     "execution_count": 28,
     "metadata": {},
     "output_type": "execute_result"
    }
   ],
   "source": [
    "index_min\n"
   ]
  },
  {
   "cell_type": "code",
   "execution_count": 29,
   "metadata": {},
   "outputs": [
    {
     "data": {
      "image/png": "[encoded data removed]",
      "text/plain": [
       "<matplotlib.figure.Figure at 0xa37133ec>"
      ]
     },
     "metadata": {},
     "output_type": "display_data"
    }
   ],
   "source": [
    "plt.plot(error_mean)\n",
    "plt.show()"
   ]
  },
  {
   "cell_type": "code",
   "execution_count": 30,
   "metadata": {},
   "outputs": [
    {
     "data": {
      "text/plain": [
       "'0.00128567454908'"
      ]
     },
     "execution_count": 30,
     "metadata": {},
     "output_type": "execute_result"
    }
   ],
   "source": [
    "min(error_mean)"
   ]
  },
  {
   "cell_type": "code",
   "execution_count": 31,
   "metadata": {},
   "outputs": [
    {
     "data": {
      "text/plain": [
       "array([[-13.51099751],\n",
       "       [  6.91030116],\n",
       "       [ -4.24077922],\n",
       "       [ 13.85181191]])"
      ]
     },
     "execution_count": 31,
     "metadata": {},
     "output_type": "execute_result"
    }
   ],
   "source": [
    "syn1"
   ]
  },
  {
   "cell_type": "code",
   "execution_count": 32,
   "metadata": {},
   "outputs": [
    {
     "data": {
      "text/plain": [
       "array([[-5.46878838,  4.09825679, -4.55463463, -7.95768959],\n",
       "       [ 8.27606288,  3.99332441, -4.47760796,  4.99959736],\n",
       "       [ 1.72920077,  0.27722193,  0.28123082, -1.62480418]])"
      ]
     },
     "execution_count": 32,
     "metadata": {},
     "output_type": "execute_result"
    }
   ],
   "source": [
    "syn0"
   ]
  },
  {
   "cell_type": "code",
   "execution_count": 33,
   "metadata": {},
   "outputs": [
    {
     "data": {
      "text/plain": [
       "array([[0],\n",
       "       [1],\n",
       "       [1],\n",
       "       [0]])"
      ]
     },
     "execution_count": 33,
     "metadata": {},
     "output_type": "execute_result"
    }
   ],
   "source": [
    "y"
   ]
  },
  {
   "cell_type": "code",
   "execution_count": null,
   "metadata": {
    "collapsed": true
   },
   "outputs": [],
   "source": []
  }
 ],
 "metadata": {
  "kernelspec": {
   "display_name": "Python 3",
   "language": "python",
   "name": "python3"
  },
  "language_info": {
   "codemirror_mode": {
    "name": "ipython",
    "version": 3
   },
   "file_extension": ".py",
   "mimetype": "text/x-python",
   "name": "python",
   "nbconvert_exporter": "python",
   "pygments_lexer": "ipython3",
   "version": "3.5.2"
  }
 },
 "nbformat": 4,
 "nbformat_minor": 2
}
